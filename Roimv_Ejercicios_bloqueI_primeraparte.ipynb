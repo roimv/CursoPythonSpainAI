{
  "nbformat": 4,
  "nbformat_minor": 0,
  "metadata": {
    "colab": {
      "name": "Ejercicios_bloqueI_primeraparte.ipynb",
      "provenance": [],
      "collapsed_sections": [
        "H6uX4LrQLGjI",
        "Uvb0j_J8OPhO",
        "LPr01duUUdmg",
        "p6XWL1N9UdmF",
        "f0nnuaIDUdmq",
        "RPdKTw28VfJM",
        "jrm7GnJmc6Dp",
        "AhKml0Wcehg0"
      ],
      "include_colab_link": true
    },
    "kernelspec": {
      "name": "python3",
      "display_name": "Python 3"
    }
  },
  "cells": [
    {
      "cell_type": "markdown",
      "metadata": {
        "id": "view-in-github",
        "colab_type": "text"
      },
      "source": [
        "<a href=\"https://colab.research.google.com/github/roimv/CursoPythonSpainAI/blob/main/Roimv_Ejercicios_bloqueI_primeraparte.ipynb\" target=\"_parent\"><img src=\"https://colab.research.google.com/assets/colab-badge.svg\" alt=\"Open In Colab\"/></a>"
      ]
    },
    {
      "cell_type": "markdown",
      "metadata": {
        "id": "3dsZmd3tHx6p"
      },
      "source": [
        "# Bloque I\n",
        "\n",
        "A continuación, se incluye una serie de ejercicios relativos al primer bloque del curso.\n",
        "\n",
        "**NOTA:**\n",
        "Todos los ejercicios se estructuran de la siguiente forma:\n",
        "\n",
        "\n",
        "1.   Enunciado: Se expone lo que se requiere hacer\n",
        "2.   Tu Implementación: Celda de código para que resuelvas el ejercicio\n",
        "3.   Validación: se usa el método `assert` para comprobar que has completado el ejercicio correctamente.\n",
        "\n",
        "¿Como funciona `assert`?\n",
        "Este método evalua una igualdad, por ejemplo si realizamos la siguiente igualdad:\n",
        "```\n",
        "1 == 1\n",
        "```\n",
        "El resultado de `assert` será True y por lo tanto OK.\n",
        "Sin embargo, para la siguiente igualdad:\n",
        "```\n",
        "1 == 2\n",
        "```\n",
        "`assert` devolverá [`AssertionError`](https://docs.python.org/3/library/exceptions.html#AssertionError), por lo tanto el ejercicio no está correctamente resuelto y tenemos que seguir trabajando en él.\n"
      ]
    },
    {
      "cell_type": "markdown",
      "metadata": {
        "id": "J5sRxCIHIhr0"
      },
      "source": [
        "## Ejercicio 1\n",
        "\n",
        "Sustituye los espacios `____` por uno de los dos métodos de `string` a continuación:\n",
        " * [.strip()](https://docs.python.org/es/3.8/library/stdtypes.html#str.split)\n",
        " * [.lower()](https://docs.python.org/es/3.8/library/stdtypes.html#str.lower)\n",
        "\n",
        "El objetivo es que generes las siguientes variables:\n",
        " * `minusculas`: es la cadena `original` donde todos los caracteres son en minúscula\n",
        " * `sin_espacios_al_inicio_y_al_final`: es la cadena `original` donde no hay espacios en blanco ni a la izquierda ni a la derecha de la caderna\n",
        " * `sin_espacios_al_inicio_y_al_final_y_minusculas`: es la cadena `original` donde todos los caracteres son en minúscula y todos los caracteres son en minúscula.\n"
      ]
    },
    {
      "cell_type": "code",
      "metadata": {
        "id": "dSoV5qPRKFBY"
      },
      "source": [
        "original = ' Python strings are COOL! '\n",
        "minusculas = original.lower()\n",
        "sin_espacios_al_inicio_y_al_final = original.strip()\n",
        "sin_espacios_al_inicio_y_al_final_y_minusculas = original.lower().strip()"
      ],
      "execution_count": 1,
      "outputs": []
    },
    {
      "cell_type": "markdown",
      "metadata": {
        "id": "zcySCLyHKJBm"
      },
      "source": [
        "Vamos a comprobar que los resultados son correctos si al ejecutar la siguiente celda se lanzan `AssertionError` si alguna de las funciones no son iguales."
      ]
    },
    {
      "cell_type": "code",
      "metadata": {
        "id": "eNahmsGdKft1"
      },
      "source": [
        "assert minusculas == ' python strings are cool! '\n",
        "assert sin_espacios_al_inicio_y_al_final == 'Python strings are COOL!'\n",
        "assert sin_espacios_al_inicio_y_al_final_y_minusculas == 'python strings are cool!'"
      ],
      "execution_count": null,
      "outputs": []
    },
    {
      "cell_type": "markdown",
      "metadata": {
        "id": "H6uX4LrQLGjI"
      },
      "source": [
        "## Ejercicio 2:\n",
        "\n",
        "Usa los métodos de str (que puedes consultar [aquí](https://docs.python.org/es/3/library/stdtypes.html#string-methods)) para transformar `ugly` que tiene el valor ` tiTle of MY new Book$$` en `pretty`, que tiene el valor: `Title Of My New Book`.\n",
        "\n",
        "Para ello, tienes que:\n",
        " 1. eliminar todos los `$` que se incluyen en `ugly` usando el substring, por ejemplo de la variable `x='hola'`, podemos hacer `x[1:3]` para imprimir `'ol'`.\n",
        " 2. pasar todo a minúsculas con `.lower()`\n",
        " 3. usar `.title()` para hacer la primera letra de cada palabra en mayúscula\n",
        "\n",
        "\n",
        "\n",
        "\n",
        "\n",
        "\n",
        "\n",
        "\n",
        "\n",
        "\n",
        "\n",
        "\n",
        "\n",
        "\n"
      ]
    },
    {
      "cell_type": "code",
      "metadata": {
        "id": "6K0MPEWtMaBX"
      },
      "source": [
        "ugly = '$tiTle of MY new Book$$'\n",
        "\n",
        "# TODO: A continuación usa los métodos de los strings y substrings para crear la variable pretty: \n",
        "pretty = \n",
        "print(pretty)"
      ],
      "execution_count": null,
      "outputs": []
    },
    {
      "cell_type": "markdown",
      "metadata": {
        "id": "Z-8QIfiLMf7o"
      },
      "source": [
        "Vamos a asegurarnos que lo hemos hecho bien. Para ello usamos [`AssertionError`](https://docs.python.org/3/library/exceptions.html#AssertionError) si el `assert`no es `True`.\n",
        "\n"
      ]
    },
    {
      "cell_type": "code",
      "metadata": {
        "id": "ps6aFziXMgvU"
      },
      "source": [
        "print('pretty: {}'.format(pretty))\n",
        "assert pretty == 'Title Of My New Book'"
      ],
      "execution_count": null,
      "outputs": []
    },
    {
      "cell_type": "markdown",
      "metadata": {
        "id": "Uvb0j_J8OPhO"
      },
      "source": [
        "## Ejercicio 3\n",
        "\n",
        "Crea la siguiente fórmula en Python:\n",
        "\\begin{align}\n",
        " result = 6a^3 - 8b^2 + 4c + 11\n",
        "\\end{align}"
      ]
    },
    {
      "cell_type": "code",
      "metadata": {
        "id": "FbAwlD0pOaWW"
      },
      "source": [
        "a = 2\n",
        "b = 3\n",
        "c = 2\n",
        "\n",
        "# A continuación,escribe la ecuación:\n",
        "result = \n",
        "\n",
        "print(\"Tu resultado actual es: \", result)"
      ],
      "execution_count": null,
      "outputs": []
    },
    {
      "cell_type": "markdown",
      "metadata": {
        "id": "yL_Xd4yGSVXH"
      },
      "source": [
        "Comprobemos que los has hecho OK:"
      ]
    },
    {
      "cell_type": "code",
      "metadata": {
        "id": "vxsyhyhUSV9G"
      },
      "source": [
        "assert result == -5"
      ],
      "execution_count": null,
      "outputs": []
    },
    {
      "cell_type": "markdown",
      "metadata": {
        "id": "LPr01duUUdmg"
      },
      "source": [
        "## Ejercicio 4:\n",
        "\n",
        "A continuación, rellena los huecos `___`:\n",
        "\n",
        "AYUDA: Visita la [documentación de Python](https://docs.python.org/es/3/tutorial/datastructures.html) donde podrás consultar todos los métodos disponibles para las listas.\n",
        "\n",
        "\n"
      ]
    },
    {
      "cell_type": "code",
      "metadata": {
        "id": "IcTcMj8MUdmh"
      },
      "source": [
        "# Crea una lista vacia:\n",
        "my_list = ____\n",
        "\n",
        "# Añade los siguientes valores a tu lista:\n",
        "my_list.____('Python')\n",
        "my_list.____('is ok')\n",
        "my_list.____('sometimes')\n",
        "\n",
        "# Elimina el elemento cuyo valor es: 'sometimes'\n",
        "my_list.____('sometimes')\n",
        "\n",
        "# Modifica el segundo elemento:\n",
        "my_list[____] = 'is neat'"
      ],
      "execution_count": null,
      "outputs": []
    },
    {
      "cell_type": "markdown",
      "metadata": {
        "id": "xZT6mYaFUdml"
      },
      "source": [
        "Comprobemos que has realizado el ejercicio OK:\n",
        "\n",
        "\n"
      ]
    },
    {
      "cell_type": "code",
      "metadata": {
        "id": "A42ycCs3Udmm"
      },
      "source": [
        "assert my_list == ['Python', 'is neat']"
      ],
      "execution_count": null,
      "outputs": []
    },
    {
      "cell_type": "markdown",
      "metadata": {
        "id": "p6XWL1N9UdmF"
      },
      "source": [
        "## Ejercicio 5:\n",
        "\n",
        "Crea una lista de `string` a partir de una lista de números utilizando el siguiente criterio:\n",
        "\n",
        "\n",
        "*   Si el número es múltiplo de 5 e impar, el valor del `string` debe ser 'five odd'\n",
        "*   Si el número es múltiplo de 5 y par, el valor del `string` debe ser 'five even'\n",
        "\n",
        "*   Si el número es impar, el valor del `string` debe ser 'odd'\n",
        "*   Si el número es par, el valor del `string` debe ser 'even'\n",
        "\n",
        "\n",
        "NOTA: Para crear dicha lista tendrás que\n",
        " 1. crear una nueva lista vacia: `my_list = []`\n",
        " 1. iterar sobre la lista `numbers` en un bucle for\n",
        " 2. dentro del bucle for, crear varias sentencias if donde en cada una de ellas comparas si el número es múltiplo de 5 o de 3 o de ambos según corresponda.\n",
        " 4. Si se cumplen algunas de las sentencias if, entonces se tiene que añadir el número que cumple el criterio a la lista `my_list`. \n",
        " \n",
        "ATENCION: asegurate que un número no cumple con 2 criterios a la vez! \n",
        "\n",
        "\n",
        "\n",
        "\n",
        "\n",
        "\n",
        "\n"
      ]
    },
    {
      "cell_type": "code",
      "metadata": {
        "id": "BcIjP3GFUdmJ"
      },
      "source": [
        "numbers = [1, 3, 4, 6, 81, 80, 100, 95]\n",
        "\n",
        "# TODO:\n",
        "my_list = "
      ],
      "execution_count": null,
      "outputs": []
    },
    {
      "cell_type": "markdown",
      "metadata": {
        "id": "5vb96t2RUdmW"
      },
      "source": [
        "Comprobemos que la implementación es correcta para el input dado:\n",
        "\n"
      ]
    },
    {
      "cell_type": "code",
      "metadata": {
        "id": "bnKh8AbAUdmY"
      },
      "source": [
        "assert my_list == ['odd', 'odd', 'even', 'even', 'odd', 'five even', 'five even', 'five odd']"
      ],
      "execution_count": null,
      "outputs": []
    },
    {
      "cell_type": "markdown",
      "metadata": {
        "id": "f0nnuaIDUdmq"
      },
      "source": [
        "## Ejercicio 6:\n",
        "\n",
        "Mergea las siguientes listas para formar una sola y ordenala de mayor a menor:\n",
        "\n",
        "\n"
      ]
    },
    {
      "cell_type": "code",
      "metadata": {
        "id": "VHP3Nmo6Udmq"
      },
      "source": [
        "list1 = [6, 12, 5]\n",
        "list2 = [6.2, 0, 14, 1]\n",
        "list3 = [0.9]"
      ],
      "execution_count": null,
      "outputs": []
    },
    {
      "cell_type": "code",
      "metadata": {
        "id": "2mC1m-IbUdmu"
      },
      "source": [
        "# TODO:\n",
        "my_list = "
      ],
      "execution_count": null,
      "outputs": []
    },
    {
      "cell_type": "markdown",
      "metadata": {
        "id": "NS6wnG1UUdmx"
      },
      "source": [
        "Comprobemos que has realizado el ejercicio OK:\n"
      ]
    },
    {
      "cell_type": "code",
      "metadata": {
        "id": "ufoWbNWUUdmy"
      },
      "source": [
        "print(my_list)\n",
        "assert my_list == [14, 12, 6.2, 6, 5, 1, 0.9, 0]"
      ],
      "execution_count": null,
      "outputs": []
    },
    {
      "cell_type": "markdown",
      "metadata": {
        "id": "RPdKTw28VfJM"
      },
      "source": [
        "## Ejercicio 7:\n",
        "\n",
        "Rellena los `___` del siguiente código:\n",
        "\n",
        "\n"
      ]
    },
    {
      "cell_type": "code",
      "metadata": {
        "id": "cuiDUgmbVfJQ"
      },
      "source": [
        "words = ['PYTHON', 'JOHN', 'chEEse', 'hAm', 'DOE', '123']\n",
        "upper_case_words = []\n",
        "\n",
        "for ____ in words:\n",
        "    if ____.isupper():\n",
        "        ____.append(____) "
      ],
      "execution_count": null,
      "outputs": []
    },
    {
      "cell_type": "markdown",
      "metadata": {
        "id": "jp0Zd-lbVfJe"
      },
      "source": [
        "Comprobemos que la implementación es correcta para el input dado:\n",
        "\n"
      ]
    },
    {
      "cell_type": "code",
      "metadata": {
        "id": "3COVBbXzVfJf"
      },
      "source": [
        "assert upper_case_words == ['PYTHON', 'JOHN', 'DOE']"
      ],
      "execution_count": null,
      "outputs": []
    },
    {
      "cell_type": "markdown",
      "metadata": {
        "id": "jrm7GnJmc6Dp"
      },
      "source": [
        "## Ejercicio 8:\n",
        "\n",
        "Crea tu primer diccionario a partir de estos campos:\n",
        "```\n",
        "first_name = 'John'\n",
        "last_name = 'Doe'\n",
        "favorite_hobby = 'Python'\n",
        "sports_hobby = 'gym'\n",
        "age = 82\n",
        "```\n",
        "\n",
        "El diccionario tiene que tener 3 claves unicamente:\n",
        " * `name`: debe incluir el valor de `first_name` y `last_name` separados por un espacio\n",
        " * `age`: debe contener la edad\n",
        " * `hobbies`: es una lista que incluye los valores de `favorite_hobby` y `sports_hobby`\n",
        "\n",
        "\n",
        "**ATENCION**: Los diccionarios no guardan un orden, con lo que da igual el orden de los elementos que contiene."
      ]
    },
    {
      "cell_type": "code",
      "metadata": {
        "id": "QNtkaKwpdCEH"
      },
      "source": [
        "my_dict = # TODO"
      ],
      "execution_count": null,
      "outputs": []
    },
    {
      "cell_type": "markdown",
      "metadata": {
        "id": "JSA5eW1odIbo"
      },
      "source": [
        "Comprobemos que lo has hecho OK:"
      ]
    },
    {
      "cell_type": "code",
      "metadata": {
        "id": "TqqJXdIcdIoO"
      },
      "source": [
        "assert my_dict == {\n",
        "        'name': 'John Doe',\n",
        "        'age': 82,\n",
        "        'hobbies': ['Python', 'gym']\n",
        "    }"
      ],
      "execution_count": null,
      "outputs": []
    },
    {
      "cell_type": "markdown",
      "metadata": {
        "id": "AhKml0Wcehg0"
      },
      "source": [
        "## Ejercicio 9:\n",
        "\n",
        "Combina ` dict2` y `dict3` en` my_dict`. \n",
        "\n",
        "Además, a partir del valor de `special_key` de `my_dict`, crea una variable que se llame `special_value`. \n",
        "\n",
        "Tenga en cuenta que los diccionarios originales deben permanecer intactos y la `special_key` debe eliminarse de` my_dict`.\n",
        "\n",
        "AYUDA: usa los mètodos de los diccionarios `.copy()`, `.pop()` y `.update()` para resolver el problema.\n",
        "\n",
        "\n"
      ]
    },
    {
      "cell_type": "code",
      "metadata": {
        "id": "NFDYR8SvE0Ye"
      },
      "source": [
        "# Distintas formas de iniciar diccionarios:\n",
        "dict2 = {'key1': 123, 'special_key': 'secret'}\n",
        "dict3 = dict([('key2', 456), ('keyX', 'X')])"
      ],
      "execution_count": null,
      "outputs": []
    },
    {
      "cell_type": "code",
      "metadata": {
        "id": "Hw62IuiRehg7"
      },
      "source": [
        "# TODO:\n",
        "my_dict = \n",
        "special_value = "
      ],
      "execution_count": null,
      "outputs": []
    },
    {
      "cell_type": "markdown",
      "metadata": {
        "id": "q0LlEwDPehhH"
      },
      "source": [
        "Comprobemos que lo has hecho OK:"
      ]
    },
    {
      "cell_type": "code",
      "metadata": {
        "id": "hmptZYXtehhI"
      },
      "source": [
        "assert my_dict == {'key1': 123, 'key2': 456, 'keyX': 'X'}\n",
        "assert special_value == 'secret'\n",
        "\n",
        "# comprobemos que los originales no se han modificado:\n",
        "assert dict2 == {'key1': 123, 'special_key': 'secret'}\n",
        "assert dict3 == {'key2': 456, 'keyX': 'X'}"
      ],
      "execution_count": null,
      "outputs": []
    }
  ]
}